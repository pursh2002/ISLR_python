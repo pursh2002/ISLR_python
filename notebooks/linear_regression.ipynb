{
 "metadata": {
  "name": ""
 },
 "nbformat": 3,
 "nbformat_minor": 0,
 "worksheets": [
  {
   "cells": [
    {
     "cell_type": "markdown",
     "source": [
      "# Linear regression\n",
      "\n",
      "## Libraries\n",
      "\n",
      "Original ISLR lab loads `MASS` and `ISLR` libraries for the lab. `MASS` is a\n",
      "large collection of datasets and functions and `ISLR` package includes data sets\n",
      "associated with the book.\n",
      "\n",
      "This lab uses `Boston` data set from `MASS` package. We can download the data\n",
      "set here: https://archive.ics.uci.edu/ml/datasets/Housing. When you look at the\n",
      "[data](https://archive.ics.uci.edu/ml/machine-learning-databases/housing/housing.data)\n",
      "you can see data doesn't contain the header, but we can use\n",
      "[`housing.names`](https://archive.ics.uci.edu/ml/machine-learning-databases/housing/housing.names)\n",
      "for attribute information.\n",
      "\n"
     ]
    },
    {
     "cell_type": "markdown",
     "source": [
      "### Downloading manually"
     ]
    },
    {
     "cell_type": "code",
     "collapsed": false,
     "input": [
      "import pandas as pd\n",
      "boston_url = \"https://archive.ics.uci.edu/ml/machine-learning-databases/housing/housing.data\"\n",
      "# The file is in fixed-width format\n",
      "boston = pd.read_fwf(boston_url, sep=None, header=None,\n",
      "                     names=['crim', 'zn', 'indus', 'chas', 'nox', 'rm', 'age',\n",
      "                            'dis', 'rad', 'tax', 'ptratio', 'b', 'lstat', 'medv'])\n"
     ],
     "language": "python",
     "outputs": [],
     "prompt_number": 2
    },
    {
     "cell_type": "code",
     "collapsed": false,
     "input": [
      "boston.columns"
     ],
     "language": "python",
     "outputs": [
      {
       "output_type": "pyout",
       "prompt_number": 3,
       "text": [
        "Index([u'crim', u'zn', u'indus', u'chas', u'nox', u'rm', u'age', u'dis', u'rad', u'tax', u'ptratio', u'b', u'lstat', u'medv'], dtype='object')"
       ]
      }
     ],
     "prompt_number": 3
    },
    {
     "cell_type": "markdown",
     "source": [
      "The description for each column is as follows.\n",
      "\n",
      "1. crim      per capita crime rate by town\n",
      "2. zn        proportion of residential land zoned for lots over 25,000 sq.ft.\n",
      "3. indus     proportion of non-retail business acres per town\n",
      "4. chas      Charles River dummy variable (= 1 if tract bounds river; 0 otherwise)\n",
      "5. nox       nitric oxides concentration (parts per 10 million)\n",
      "6. rm        average number of rooms per dwelling\n",
      "7. age       proportion of owner-occupied units built prior to 1940\n",
      "8. dis       weighted distances to five Boston employment centres\n",
      "9. rad       index of accessibility to radial highways\n",
      "10. tax      full-value property-tax rate per \\$10,000\n",
      "11. ptratio  pupil-teacher ratio by town\n",
      "12. b        1000(Bk - 0.63)^2 where Bk is the proportion of blacks by town\n",
      "13. lstat    % lower status of the population\n",
      "14. medv     Median value of owner-occupied homes in $1000's"
     ]
    },
    {
     "cell_type": "markdown",
     "source": [
      "### Loading from scikit-learn module\n",
      "\n",
      "It turns out `boston` data set is available in scikit-learn module."
     ]
    },
    {
     "cell_type": "code",
     "collapsed": false,
     "input": [
      "from sklearn.datasets import load_boston\n",
      "bos = load_boston()\n",
      "boston = pd.DataFrame(bos.data)\n",
      "boston.columns = [f.lower() for f in bos.feature_names]\n",
      "boston['medv'] = bos.target\n"
     ],
     "language": "python",
     "outputs": [],
     "prompt_number": 4
    },
    {
     "cell_type": "markdown",
     "source": [
      "## Linear regression\n",
      "\n",
      "In this section we do simple linear regression with `medv` (median house) as the\n",
      "response and `lstat` (percent lower status of the population) as the predictor.\n"
     ]
    },
    {
     "cell_type": "code",
     "collapsed": false,
     "input": [
      "%matplotlib inline\n",
      "boston.plot(kind='scatter', x='lstat', y='medv')"
     ],
     "language": "python",
     "outputs": [
      {
       "output_type": "pyout",
       "prompt_number": 20,
       "text": [
        "<matplotlib.axes._subplots.AxesSubplot at 0x7f8710e23b50>"
       ]
      },
      {
       "output_type": "display_data",
       "png": "[encoded data removed]",
       "text": [
        "<matplotlib.figure.Figure at 0x7f8710e23550>"
       ]
      }
     ],
     "prompt_number": 20
    },
    {
     "cell_type": "markdown",
     "source": [
      "### Linear regression with scikit-learn\n",
      "\n",
      "There are different ways to perform linear regression using Python. Let's start\n",
      "with usign scikit-learn."
     ]
    },
    {
     "cell_type": "code",
     "collapsed": false,
     "input": [
      "from sklearn import linear_model\n",
      "# Create the linear regression object\n",
      "regr = linear_model.LinearRegression()\n",
      "# Fit the model\n",
      "regr.fit(pd.DataFrame(boston.lstat), boston.medv)\n",
      "# print model parameters\n",
      "regr.coef_, regr.intercept_\n"
     ],
     "language": "python",
     "outputs": [
      {
       "output_type": "pyout",
       "prompt_number": 8,
       "text": [
        "(array([-0.95004935]), 34.553840879383124)"
       ]
      }
     ],
     "prompt_number": 8
    },
    {
     "cell_type": "markdown",
     "source": [
      "### Linear regression with SciPy\n",
      "\n",
      "We could also use `scipy.stats.linregress` to compute a least-squares regression.\n"
     ]
    },
    {
     "cell_type": "code",
     "collapsed": false,
     "input": [
      "from scipy import stats\n",
      "slope, intercept, r_value, p_value, std_err = stats.linregress(boston.lstat, boston.medv)\n"
     ],
     "language": "python",
     "outputs": [],
     "prompt_number": 9
    },
    {
     "cell_type": "markdown",
     "source": [
      "Now we can check out some basic information about the model. First, coeffficents"
     ]
    },
    {
     "cell_type": "code",
     "collapsed": false,
     "input": [
      "slope, intercept"
     ],
     "language": "python",
     "outputs": [
      {
       "output_type": "pyout",
       "prompt_number": 11,
       "text": [
        "(-0.9500493537579906, 34.553840879383131)"
       ]
      }
     ],
     "prompt_number": 11
    },
    {
     "cell_type": "code",
     "collapsed": false,
     "input": [
      "r_value**2"
     ],
     "language": "python",
     "outputs": [
      {
       "output_type": "pyout",
       "prompt_number": 14,
       "text": [
        "0.54414629758647892"
       ]
      }
     ],
     "prompt_number": 14
    },
    {
     "cell_type": "code",
     "collapsed": false,
     "input": [
      "p_value"
     ],
     "language": "python",
     "outputs": [
      {
       "output_type": "pyout",
       "prompt_number": 18,
       "text": [
        "5.0811033943898219e-88"
       ]
      }
     ],
     "prompt_number": 18
    },
    {
     "cell_type": "code",
     "collapsed": false,
     "input": [
      "std_err"
     ],
     "language": "python",
     "outputs": [
      {
       "output_type": "pyout",
       "prompt_number": 19,
       "text": [
        "0.038733416212639461"
       ]
      }
     ],
     "prompt_number": 19
    },
    {
     "cell_type": "markdown",
     "source": [
      "### Linear regression with `statsmodels`"
     ]
    }
   ]
  }
 ]
}